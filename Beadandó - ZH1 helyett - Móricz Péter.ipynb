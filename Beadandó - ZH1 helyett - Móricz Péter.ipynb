{
    "metadata": {
        "kernelspec": {
            "name": "SQL",
            "display_name": "SQL",
            "language": "sql"
        },
        "language_info": {
            "name": "sql",
            "version": ""
        }
    },
    "nbformat_minor": 2,
    "nbformat": 4,
    "cells": [
        {
            "cell_type": "markdown",
            "source": [
                "1\\. Analtikus függvényes lekérdezés.\n",
                "\n",
                "Foglalások átlagos tartózkodási ideje szálláshelyenként."
            ],
            "metadata": {
                "azdata_cell_guid": "ec1e8985-5c68-442d-9193-64db2a90f3dc"
            },
            "attachments": {}
        },
        {
            "cell_type": "code",
            "source": [
                "SELECT \r\n",
                "    SZ.SZALLAS_ID,\r\n",
                "    SZ.SZALLAS_NEV,\r\n",
                "    AVG(DATEDIFF(day, F.METTOL, F.MEDDIG))\r\n",
                "FROM SZALLASHELY SZ\r\n",
                "JOIN SZOBA S ON SZ.SZALLAS_ID = S.SZALLAS_FK\r\n",
                "JOIN FOGLALAS F ON S.SZOBA_ID = F.SZOBA_FK\r\n",
                "GROUP BY SZ.SZALLAS_ID, SZ.SZALLAS_NEV;"
            ],
            "metadata": {
                "azdata_cell_guid": "542898b4-cca9-4b58-9e18-6a87df7400ab",
                "language": "sql"
            },
            "outputs": [
                {
                    "output_type": "display_data",
                    "data": {
                        "text/html": "(12 rows affected)"
                    },
                    "metadata": {}
                },
                {
                    "output_type": "display_data",
                    "data": {
                        "text/html": "Total execution time: 00:00:00.082"
                    },
                    "metadata": {}
                },
                {
                    "output_type": "execute_result",
                    "execution_count": 8,
                    "data": {
                        "application/vnd.dataresource+json": {
                            "schema": {
                                "fields": [
                                    {
                                        "name": "SZALLAS_ID"
                                    },
                                    {
                                        "name": "SZALLAS_NEV"
                                    },
                                    {
                                        "name": "(No column name)"
                                    }
                                ]
                            },
                            "data": [
                                {
                                    "SZALLAS_ID": "9",
                                    "SZALLAS_NEV": "Jáde panzió",
                                    "(No column name)": "4"
                                },
                                {
                                    "SZALLAS_ID": "3",
                                    "SZALLAS_NEV": "Fortuna Apartman",
                                    "(No column name)": "3"
                                },
                                {
                                    "SZALLAS_ID": "12",
                                    "SZALLAS_NEV": "Gold Hotel",
                                    "(No column name)": "4"
                                },
                                {
                                    "SZALLAS_ID": "6",
                                    "SZALLAS_NEV": "Kentaur Hotel",
                                    "(No column name)": "4"
                                },
                                {
                                    "SZALLAS_ID": "7",
                                    "SZALLAS_NEV": "Szieszta Apartmanház",
                                    "(No column name)": "3"
                                },
                                {
                                    "SZALLAS_ID": "1",
                                    "SZALLAS_NEV": "Sába-Ház",
                                    "(No column name)": "4"
                                },
                                {
                                    "SZALLAS_ID": "10",
                                    "SZALLAS_NEV": "Lagúna Hotel",
                                    "(No column name)": "3"
                                },
                                {
                                    "SZALLAS_ID": "4",
                                    "SZALLAS_NEV": "Fortuna panzió",
                                    "(No column name)": "4"
                                },
                                {
                                    "SZALLAS_ID": "5",
                                    "SZALLAS_NEV": "Fortuna Panzió",
                                    "(No column name)": "4"
                                },
                                {
                                    "SZALLAS_ID": "2",
                                    "SZALLAS_NEV": "Családi Ház",
                                    "(No column name)": "3"
                                },
                                {
                                    "SZALLAS_ID": "11",
                                    "SZALLAS_NEV": "Partiszél Vendégház",
                                    "(No column name)": "3"
                                },
                                {
                                    "SZALLAS_ID": "8",
                                    "SZALLAS_NEV": "Hotel Három Hattyú",
                                    "(No column name)": "3"
                                }
                            ]
                        },
                        "text/html": "<table><tr><th>SZALLAS_ID</th><th>SZALLAS_NEV</th><th>(No column name)</th></tr><tr><td>9</td><td>Jáde panzió</td><td>4</td></tr><tr><td>3</td><td>Fortuna Apartman</td><td>3</td></tr><tr><td>12</td><td>Gold Hotel</td><td>4</td></tr><tr><td>6</td><td>Kentaur Hotel</td><td>4</td></tr><tr><td>7</td><td>Szieszta Apartmanház</td><td>3</td></tr><tr><td>1</td><td>Sába-Ház</td><td>4</td></tr><tr><td>10</td><td>Lagúna Hotel</td><td>3</td></tr><tr><td>4</td><td>Fortuna panzió</td><td>4</td></tr><tr><td>5</td><td>Fortuna Panzió</td><td>4</td></tr><tr><td>2</td><td>Családi Ház</td><td>3</td></tr><tr><td>11</td><td>Partiszél Vendégház</td><td>3</td></tr><tr><td>8</td><td>Hotel Három Hattyú</td><td>3</td></tr></table>"
                    },
                    "metadata": {}
                }
            ],
            "execution_count": 8
        },
        {
            "cell_type": "markdown",
            "source": [
                "2\\. Analtikus függvényes lekérdezés.\n",
                "\n",
                "Szállás helyek összesített foglalási száma csillagok szerint."
            ],
            "metadata": {
                "azdata_cell_guid": "33709cde-c5fe-4b74-ae6e-63803345d630"
            },
            "attachments": {}
        },
        {
            "cell_type": "code",
            "source": [
                "SELECT \r\n",
                "    SZ.CSILLAGOK_SZAMA,\r\n",
                "    COUNT(F.FOGLALAS_PK) AS FOGLALASOK_SZAMA\r\n",
                "FROM SZALLASHELY SZ\r\n",
                "JOIN SZOBA S ON SZ.SZALLAS_ID = S.SZALLAS_FK\r\n",
                "JOIN FOGLALAS F ON S.SZOBA_ID = F.SZOBA_FK\r\n",
                "GROUP BY SZ.CSILLAGOK_SZAMA;"
            ],
            "metadata": {
                "azdata_cell_guid": "c9a82b40-03cb-4628-aa30-7463a2efd3ca",
                "language": "sql"
            },
            "outputs": [
                {
                    "output_type": "display_data",
                    "data": {
                        "text/html": "(3 rows affected)"
                    },
                    "metadata": {}
                },
                {
                    "output_type": "display_data",
                    "data": {
                        "text/html": "Total execution time: 00:00:00.238"
                    },
                    "metadata": {}
                },
                {
                    "output_type": "execute_result",
                    "execution_count": 6,
                    "data": {
                        "application/vnd.dataresource+json": {
                            "schema": {
                                "fields": [
                                    {
                                        "name": "CSILLAGOK_SZAMA"
                                    },
                                    {
                                        "name": "FOGLALASOK_SZAMA"
                                    }
                                ]
                            },
                            "data": [
                                {
                                    "CSILLAGOK_SZAMA": "0",
                                    "FOGLALASOK_SZAMA": "187"
                                },
                                {
                                    "CSILLAGOK_SZAMA": "3",
                                    "FOGLALASOK_SZAMA": "513"
                                },
                                {
                                    "CSILLAGOK_SZAMA": "4",
                                    "FOGLALASOK_SZAMA": "327"
                                }
                            ]
                        },
                        "text/html": "<table><tr><th>CSILLAGOK_SZAMA</th><th>FOGLALASOK_SZAMA</th></tr><tr><td>0</td><td>187</td></tr><tr><td>3</td><td>513</td></tr><tr><td>4</td><td>327</td></tr></table>"
                    },
                    "metadata": {}
                }
            ],
            "execution_count": 6
        },
        {
            "cell_type": "markdown",
            "source": [
                "1\\. Függvény\n",
                "\n",
                "Visszaadja a megadott szálláshelyhez tartozó foglalások számát a szállás azonosítója alapján."
            ],
            "metadata": {
                "azdata_cell_guid": "97c037df-7c8b-4736-b42a-a4e4c456b018"
            },
            "attachments": {}
        },
        {
            "cell_type": "code",
            "source": [
                "CREATE FUNCTION FoglalasSzam\r\n",
                "(@szallasID NUMERIC(3))\r\n",
                "RETURNS INT\r\n",
                "AS\r\n",
                "BEGIN\r\n",
                "    DECLARE @foglalasSzam INT\r\n",
                "\r\n",
                "    SELECT @foglalasSzam = COUNT(*)\r\n",
                "    FROM FOGLALAS f\r\n",
                "    JOIN SZOBA s ON f.SZOBA_FK = s.SZOBA_ID\r\n",
                "    WHERE s.SZALLAS_FK = @szallasID\r\n",
                "\r\n",
                "    RETURN @foglalasSzam\r\n",
                "END"
            ],
            "metadata": {
                "azdata_cell_guid": "9aafa5e1-ae1f-42bd-b3ca-24a2958c2dc1",
                "language": "sql"
            },
            "outputs": [
                {
                    "output_type": "error",
                    "ename": "",
                    "evalue": "Msg 262, Level 14, State 18, Procedure FoglalasSzam, Line 1\r\nCREATE FUNCTION permission denied in database 'sqlgyak'.",
                    "traceback": []
                },
                {
                    "output_type": "display_data",
                    "data": {
                        "text/html": "Total execution time: 00:00:00.065"
                    },
                    "metadata": {}
                }
            ],
            "execution_count": 7
        },
        {
            "cell_type": "markdown",
            "source": [
                "2\\. Függvény\n",
                "\n",
                "Visszaadja az összes foglalás számát."
            ],
            "metadata": {
                "azdata_cell_guid": "9bbf7525-cfaa-4773-be74-fc9987b3cc9b"
            },
            "attachments": {}
        },
        {
            "cell_type": "code",
            "source": [
                "CREATE FUNCTION osszesFoglalasSzam()\r\n",
                "RETURNS INT\r\n",
                "AS\r\n",
                "BEGIN\r\n",
                "    DECLARE @osszesFoglalas INT\r\n",
                "    SELECT @osszesFoglalas = COUNT(*) FROM FOGLALAS\r\n",
                "    RETURN @osszesFoglalas\r\n",
                "END;"
            ],
            "metadata": {
                "azdata_cell_guid": "807aef3c-5073-4fc5-a567-8fdfade3ec15",
                "language": "sql",
                "tags": []
            },
            "outputs": [
                {
                    "output_type": "error",
                    "evalue": "Msg 262, Level 14, State 18, Procedure osszesFoglalasSzam, Line 1\r\nCREATE FUNCTION permission denied in database 'sqlgyak'.",
                    "ename": "",
                    "traceback": []
                },
                {
                    "output_type": "display_data",
                    "data": {
                        "text/html": "Total execution time: 00:00:00.067"
                    },
                    "metadata": {}
                }
            ],
            "execution_count": 1
        },
        {
            "cell_type": "markdown",
            "source": [
                "Plusz 1 tábla bővítés és lekérdezés, melyben az új oszlop is szerepel.\n",
                "\n",
                "A lekérdezés megszámolja, hogy melyik szolgáltatásból mennyi szálláshely található."
            ],
            "metadata": {
                "azdata_cell_guid": "479155fd-4ab8-4741-bdf4-3c8b53dca086"
            },
            "attachments": {}
        },
        {
            "cell_type": "code",
            "source": [
                "-- Új tábla\r\n",
                "CREATE TABLE Szolgaltatasok (\r\n",
                "    SZOLGALTATAS_ID INT PRIMARY KEY,\r\n",
                "    LEIRAS XML,\r\n",
                "    KOLTSEG NUMERIC(10, 2),\r\n",
                ");\r\n",
                "\r\n",
                "-- Új tábla adatfeltöltése\r\n",
                "INSERT INTO SZOLGALTATASOK (SZOLGALTATAS_ID, LEIRAS, KOLTSEG) VALUES\r\n",
                "(1, 'Ingyenes wifi', NULL),\r\n",
                "(2, 'Reggeli', 4000),\r\n",
                "(3, 'Parkoló', 1500),\r\n",
                "(4, 'Medence', 6000),\r\n",
                "(5, 'Fitneszterem', NULL);\r\n",
                "\r\n",
                "-- Plusz mező a Szálláshely táblában\r\n",
                "ALTER TABLE SZALLASHELY\r\n",
                "ADD SZOLGALTATAS_FK INT,\r\n",
                "FOREIGN KEY (SZOLGALTATAS_FK) REFERENCES SZOLGALTATASOK(SZOLGALTATAS_ID);\r\n",
                "\r\n",
                "-- Plusz mező adatfeltöltése\r\n",
                "UPDATE SZALLASHELY\r\n",
                "SET SZOLGALTATAS_FK = (SELECT SZOLGALTATAS_ID FROM SZOLGALTATASOK WHERE CAST(LEIRAS as NVARCHAR(20)) = 'Fitneszterem')\r\n",
                "WHERE TIPUS = 'panzió';\r\n",
                "\r\n",
                "UPDATE SZALLASHELY\r\n",
                "SET SZOLGALTATAS_FK = (SELECT SZOLGALTATAS_ID FROM SZOLGALTATASOK WHERE CAST(LEIRAS as NVARCHAR(20)) = 'Medence')\r\n",
                "WHERE TIPUS = 'Hotel';\r\n",
                "\r\n",
                "UPDATE SZALLASHELY\r\n",
                "SET SZOLGALTATAS_FK = (SELECT SZOLGALTATAS_ID FROM SZOLGALTATASOK WHERE CAST(LEIRAS as NVARCHAR(20)) = 'Reggeli')\r\n",
                "WHERE TIPUS = 'vendégház';\r\n",
                "\r\n",
                "UPDATE SZALLASHELY\r\n",
                "SET SZOLGALTATAS_FK = (SELECT SZOLGALTATAS_ID FROM SZOLGALTATASOK WHERE CAST(LEIRAS as NVARCHAR(20)) = 'Ingyenes wifi')\r\n",
                "WHERE TIPUS = 'Diákszálló';\r\n",
                "\r\n",
                "UPDATE SZALLASHELY\r\n",
                "SET SZOLGALTATAS_FK = (SELECT SZOLGALTATAS_ID FROM SZOLGALTATASOK WHERE CAST(LEIRAS as NVARCHAR(20)) = 'Parkoló')\r\n",
                "WHERE TIPUS = 'Apartman';\r\n",
                "\r\n",
                "-- Lekérdezés\r\n",
                "SELECT \r\n",
                "    CAST(S.LEIRAS as NVARCHAR(20)),\r\n",
                "    COUNT(SH.TIPUS) AS SZALLASOK_SZAMA\r\n",
                "FROM Szolgaltatasok S\r\n",
                "JOIN Szallashely SH ON S.SZOLGALTATAS_ID = SH.SZOLGALTATAS_FK\r\n",
                "GROUP BY CAST(S.LEIRAS as NVARCHAR(20));"
            ],
            "metadata": {
                "azdata_cell_guid": "2a95660a-6dd7-45fa-a297-242ffcd51e8b",
                "language": "sql"
            },
            "outputs": [
                {
                    "output_type": "error",
                    "ename": "",
                    "evalue": "Msg 1088, Level 16, State 13, Line 1\r\nCannot find the object \"SZALLASHELY\" because it does not exist or you do not have permissions.",
                    "traceback": []
                },
                {
                    "output_type": "display_data",
                    "data": {
                        "text/html": "Total execution time: 00:00:00.636"
                    },
                    "metadata": {}
                }
            ],
            "execution_count": 4
        }
    ]
}