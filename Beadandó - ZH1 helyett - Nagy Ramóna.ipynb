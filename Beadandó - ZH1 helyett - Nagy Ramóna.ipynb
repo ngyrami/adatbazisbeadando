{
    "metadata": {
        "kernelspec": {
            "name": "SQL",
            "display_name": "SQL",
            "language": "sql"
        },
        "language_info": {
            "name": "sql",
            "version": ""
        }
    },
    "nbformat_minor": 2,
    "nbformat": 4,
    "cells": [
        {
            "cell_type": "markdown",
            "source": [
                "- Hozzon létre 3 lekérdezést, amelyeknél a GROUP BY speciális lehetőségeit használja"
            ],
            "metadata": {
                "azdata_cell_guid": "792e4f86-b9ed-412d-a2fb-9f6ccdfe0971"
            },
            "attachments": {}
        },
        {
            "cell_type": "code",
            "source": [
                "-- GROUP BY ROLLUP\r\n",
                "-- Személyek szerint ki mennyi foglalást rögzített típusonként.\r\n",
                "SELECT ROGZITETTE,\r\n",
                "        TIPUS,\r\n",
                "        COUNT(TIPUS) AS 'Rögzítés száma'\r\n",
                "FROM Szallashely\r\n",
                "GROUP BY ROLLUP(ROGZITETTE, TIPUS)"
            ],
            "metadata": {
                "azdata_cell_guid": "ddf988ae-7001-43a2-8bed-7b63d4a0390b",
                "language": "sql"
            },
            "outputs": [],
            "execution_count": null
        },
        {
            "cell_type": "code",
            "source": [
                "-- GROUPING SETS\r\n",
                "-- Hely szerint, típus szerint és csillagok száma szerint lett csoportosítva és megszámolva.\r\n",
                "SELECT HELY,\r\n",
                "        TIPUS,\r\n",
                "        CSILLAGOK_SZAMA,\r\n",
                "        COUNT(*) as 'db'\r\n",
                "FROM Szallashely\r\n",
                "GROUP BY GROUPING SETS(HELY, TIPUS, CSILLAGOK_SZAMA)"
            ],
            "metadata": {
                "azdata_cell_guid": "dd4de317-f908-473d-ba49-7e43a0cc3224",
                "language": "sql"
            },
            "outputs": [],
            "execution_count": null
        },
        {
            "cell_type": "code",
            "source": [
                "-- GROUPING_ID + ROLLUP\r\n",
                "-- Megszámoltuk a klímás és nem klímás szobákat, majd a végén összegeztünk.\r\n",
                "SELECT IIF(GROUPING_ID() = 1, 'Összesen', CAST(KLIMAS AS nvarchar(5))),\r\n",
                "        COUNT(*)\r\n",
                "FROM Szoba\r\n",
                "GROUP BY ROLLUP(KLIMAS)\r\n",
                "ORDER BY COUNT(*) ASC"
            ],
            "metadata": {
                "azdata_cell_guid": "3146b6a3-3901-4eb1-8564-3b3538c4e2b2",
                "language": "sql"
            },
            "outputs": [],
            "execution_count": 24
        }
    ]
}